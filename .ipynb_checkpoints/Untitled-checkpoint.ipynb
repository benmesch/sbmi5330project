{
 "cells": [
  {
   "cell_type": "markdown",
   "metadata": {},
   "source": [
    "\n",
    "https://www.ncbi.nlm.nih.gov/geo/query/acc.cgi?acc=GSE4170\n",
    "\n",
    "\n",
    "GEO has an integrated R script generator, so I installed R for Jupyter on my Mac (I already had R and Jupyter Notebooks, for Python, so it was pretty quick to do so:\n",
    "\n",
    "* http://www.storybench.org/install-r-jupyter-notebook/\n",
    "* https://medium.com/@kyleake/how-to-install-r-in-jupyter-with-irkernel-in-3-steps-917519326e41\n",
    "* https://stackoverflow.com/questions/39008069/r-and-python-in-one-jupyter-notebook\n",
    "* https://bioconductor.org/packages/release/bioc/html/Biobase.html\n",
    "* https://www.bioconductor.org/packages/release/bioc/html/GEOquery.html"
   ]
  },
  {
   "cell_type": "markdown",
   "metadata": {},
   "source": [
    "First few lines of the GEO2R script, from GEO, involve loading R packages. In terminal, I had to install these packages in my conda environment before they would load here:"
   ]
  },
  {
   "cell_type": "code",
   "execution_count": 1,
   "metadata": {},
   "outputs": [],
   "source": [
    "suppressMessages(library(limma))"
   ]
  },
  {
   "cell_type": "code",
   "execution_count": 17,
   "metadata": {},
   "outputs": [
    {
     "data": {
      "text/html": [
       "<ol class=list-inline>\n",
       "\t<li>'# conda environments:'</li>\n",
       "\t<li>'#'</li>\n",
       "\t<li><span style=white-space:pre-wrap>'base                     /miniconda3'</span></li>\n",
       "\t<li><span style=white-space:pre-wrap>'sbmi5330                 /miniconda3/envs/sbmi5330'</span></li>\n",
       "\t<li><span style=white-space:pre-wrap>'test-cf-r             *  /miniconda3/envs/test-cf-r'</span></li>\n",
       "\t<li>''</li>\n",
       "</ol>\n"
      ],
      "text/latex": [
       "\\begin{enumerate*}\n",
       "\\item '\\# conda environments:'\n",
       "\\item '\\#'\n",
       "\\item 'base                     /miniconda3'\n",
       "\\item 'sbmi5330                 /miniconda3/envs/sbmi5330'\n",
       "\\item 'test-cf-r             *  /miniconda3/envs/test-cf-r'\n",
       "\\item ''\n",
       "\\end{enumerate*}\n"
      ],
      "text/markdown": [
       "1. '# conda environments:'\n",
       "2. '#'\n",
       "3. <span style=white-space:pre-wrap>'base                     /miniconda3'</span>\n",
       "4. <span style=white-space:pre-wrap>'sbmi5330                 /miniconda3/envs/sbmi5330'</span>\n",
       "5. <span style=white-space:pre-wrap>'test-cf-r             *  /miniconda3/envs/test-cf-r'</span>\n",
       "6. ''\n",
       "\n",
       "\n"
      ],
      "text/plain": [
       "[1] \"# conda environments:\"                              \n",
       "[2] \"#\"                                                  \n",
       "[3] \"base                     /miniconda3\"               \n",
       "[4] \"sbmi5330                 /miniconda3/envs/sbmi5330\" \n",
       "[5] \"test-cf-r             *  /miniconda3/envs/test-cf-r\"\n",
       "[6] \"\"                                                   "
      ]
     },
     "metadata": {},
     "output_type": "display_data"
    }
   ],
   "source": [
    "system(\"conda env list\", intern=TRUE)\n"
   ]
  },
  {
   "cell_type": "code",
   "execution_count": 18,
   "metadata": {},
   "outputs": [
    {
     "ename": "ERROR",
     "evalue": "Error in library(GEOquery): there is no package called ‘GEOquery’\n",
     "output_type": "error",
     "traceback": [
      "Error in library(GEOquery): there is no package called ‘GEOquery’\nTraceback:\n",
      "1. suppressMessages(library(GEOquery))",
      "2. withCallingHandlers(expr, message = function(c) invokeRestart(\"muffleMessage\"))",
      "3. library(GEOquery)",
      "4. stop(txt, domain = NA)"
     ]
    }
   ],
   "source": [
    "\n",
    "suppressMessages(library(GEOquery))"
   ]
  },
  {
   "cell_type": "code",
   "execution_count": 6,
   "metadata": {},
   "outputs": [
    {
     "ename": "ERROR",
     "evalue": "Error in library(\"GEOquery\"): there is no package called ‘GEOquery’\n",
     "output_type": "error",
     "traceback": [
      "Error in library(\"GEOquery\"): there is no package called ‘GEOquery’\nTraceback:\n",
      "1. suppressMessages(library(\"GEOquery\"))",
      "2. withCallingHandlers(expr, message = function(c) invokeRestart(\"muffleMessage\"))",
      "3. library(\"GEOquery\")",
      "4. stop(txt, domain = NA)"
     ]
    }
   ],
   "source": [
    "# Version info: R 3.2.3, Biobase 2.30.0, GEOquery 2.40.0, limma 3.26.8\n",
    "# R scripts generated  Thu Mar 28 01:28:39 EDT 2019\n",
    "\n",
    "################################################################\n",
    "#   Differential expression analysis with limma\n",
    "suppressMessages(library(Biobase))\n",
    "suppressMessages(library(\"GEOquery\"))\n",
    "suppressMessages(library(limma))"
   ]
  },
  {
   "cell_type": "code",
   "execution_count": null,
   "metadata": {},
   "outputs": [],
   "source": [
    "# load series and platform data from GEO\n",
    "gset <- getGEO(\"GSE4170\", GSEMatrix =TRUE, AnnotGPL=TRUE) #Radich 2006\n",
    "if (length(gset) > 1) idx <- grep(\"GPL2029\", attr(gset, \"names\")) else idx <- 1\n",
    "gset <- gset[[idx]]"
   ]
  },
  {
   "cell_type": "markdown",
   "metadata": {},
   "source": [
    "In the web tool, marked the first 21 of 119 samples. The first 6 were labeled \"cd\" group, the next 15 labeled \"ap\" group. A third group, \"bc\" was created by not used for any samples. \n",
    "\n",
    "The tool limits users to only 10 groups, because it encodes them as single digit integers:"
   ]
  },
  {
   "cell_type": "code",
   "execution_count": null,
   "metadata": {},
   "outputs": [],
   "source": [
    "# make proper column names to match toptable \n",
    "fvarLabels(gset) <- make.names(fvarLabels(gset))\n",
    "\n",
    "# group names for all samples\n",
    "gsms <- paste0(\"000000111111111111111XXXXXXXXXXXXXXXXXXXXXXXXXXXXX\",\n",
    "        \"XXXXXXXXXXXXXXXXXXXXXXXXXXXXXXXXXXXXXXXXXXXXXXXXXX\",\n",
    "        \"XXXXXXXXXXXXXXXXXXX\")\n",
    "sml <- c() #initialize vector\n",
    "for (i in 1:nchar(gsms)) { sml[i] <- substr(gsms,i,i) } #fill vector with the character 0-9 or an X\n",
    "\n",
    "# eliminate samples marked as \"X\"\n",
    "sel <- which(sml != \"X\")\n",
    "sml <- sml[sel]\n",
    "gset <- gset[ ,sel]"
   ]
  },
  {
   "cell_type": "markdown",
   "metadata": {},
   "source": [
    "    Apply log transformation to the data: The GEO database accepts a variety of data value types, including logged and unlogged data. Limma expects data values to be in log space. To address this, GEO2R has an auto-detect feature that checks the values of selected Samples and automatically performs a log2 transformation on values determined not to be in log space. Alternatively, the user can select Yes to force log2 transformation, or No to override the auto-detect feature. The auto-detect feature only considers Sample values that have been assigned to a group, and applies the transformation in an all-or-none fashion."
   ]
  },
  {
   "cell_type": "code",
   "execution_count": null,
   "metadata": {},
   "outputs": [],
   "source": [
    "# log2 transform\n",
    "ex <- exprs(gset)\n",
    "qx <- as.numeric(quantile(ex, c(0., 0.25, 0.5, 0.75, 0.99, 1.0), na.rm=T))\n",
    "LogC <- (qx[5] > 100) ||\n",
    "          (qx[6]-qx[1] > 50 && qx[2] > 0) ||\n",
    "          (qx[2] > 0 && qx[2] < 1 && qx[4] > 1 && qx[4] < 2)\n",
    "if (LogC) { ex[which(ex <= 0)] <- NaN\n",
    "  exprs(gset) <- log2(ex) }\n",
    "\n",
    "# set up the data and proceed with analysis\n",
    "sml <- paste(\"G\", sml, sep=\"\")    # set group names\n",
    "fl <- as.factor(sml)\n",
    "gset$description <- fl\n",
    "design <- model.matrix(~ description + 0, gset)\n",
    "colnames(design) <- levels(fl)\n",
    "fit <- lmFit(gset, design)\n",
    "cont.matrix <- makeContrasts(G1-G0, levels=design)\n",
    "fit2 <- contrasts.fit(fit, cont.matrix)\n",
    "fit2 <- eBayes(fit2, 0.01)\n",
    "tT <- topTable(fit2, adjust=\"fdr\", sort.by=\"B\", number=250)\n",
    "\n",
    "#tT <- subset(tT, select=c(\"ID\",\"adj.P.Val\",\"P.Value\",\"F\",\"Gene.symbol\",\"Gene.title\")) \n",
    "#reselected columns, to include gene id and GO function...\n",
    "tT <- subset(tT, select=c(\"ID\",\"adj.P.Val\",\"P.Value\",\"F\",\"Gene.symbol\",\"Gene.title\",\"Gene.ID\",\"GO.Function\"))\n",
    "write.table(tT, file=stdout(), row.names=F, sep=\"\\t\")\n"
   ]
  },
  {
   "cell_type": "markdown",
   "metadata": {},
   "source": [
    "Used a 2nd tab on the GEO2R tool to create a box plot. I think it added a 2nd half to the script for this plot as a result:"
   ]
  },
  {
   "cell_type": "code",
   "execution_count": null,
   "metadata": {},
   "outputs": [],
   "source": [
    "\n",
    "\n",
    "################################################################\n",
    "#   Boxplot for selected GEO samples\n",
    "library(Biobase)\n",
    "library(GEOquery)\n",
    "\n",
    "# load series and platform data from GEO\n",
    "\n",
    "gset <- getGEO(\"GSE4170\", GSEMatrix =TRUE, getGPL=FALSE)\n",
    "if (length(gset) > 1) idx <- grep(\"GPL2029\", attr(gset, \"names\")) else idx <- 1\n",
    "gset <- gset[[idx]]\n",
    "\n",
    "# group names for all samples in a series\n",
    "gsms <- paste0(\"000000111111111111111XXXXXXXXXXXXXXXXXXXXXXXXXXXXX\",\n",
    "        \"XXXXXXXXXXXXXXXXXXXXXXXXXXXXXXXXXXXXXXXXXXXXXXXXXX\",\n",
    "        \"XXXXXXXXXXXXXXXXXXX\")\n",
    "sml <- c()\n",
    "for (i in 1:nchar(gsms)) { sml[i] <- substr(gsms,i,i) }\n",
    "sml <- paste(\"G\", sml, sep=\"\")  set group names\n",
    "\n",
    "# eliminate samples marked as \"X\"\n",
    "sel <- which(sml != \"X\")\n",
    "sml <- sml[sel]\n",
    "gset <- gset[ ,sel]\n",
    "\n",
    "# order samples by group\n",
    "ex <- exprs(gset)[ , order(sml)]\n",
    "sml <- sml[order(sml)]\n",
    "fl <- as.factor(sml)\n",
    "labels <- c(\"cd\",\"ap\",\"bc\")\n",
    "\n",
    "# set parameters and draw the plot\n",
    "palette(c(\"#dfeaf4\",\"#f4dfdf\",\"#f2cb98\", \"#AABBCC\"))\n",
    "dev.new(width=4+dim(gset)[[2]]/5, height=6)\n",
    "par(mar=c(2+round(max(nchar(sampleNames(gset)))/2),4,2,1))\n",
    "title <- paste (\"GSE4170\", '/', annotation(gset), \" selected samples\", sep ='')\n",
    "boxplot(ex, boxwex=0.6, notch=T, main=title, outline=FALSE, las=2, col=fl)\n",
    "legend(\"topleft\", labels, fill=palette(), bty=\"n\")"
   ]
  }
 ],
 "metadata": {
  "kernelspec": {
   "display_name": "R",
   "language": "R",
   "name": "ir"
  },
  "language_info": {
   "codemirror_mode": "r",
   "file_extension": ".r",
   "mimetype": "text/x-r-source",
   "name": "R",
   "pygments_lexer": "r",
   "version": "3.5.1"
  }
 },
 "nbformat": 4,
 "nbformat_minor": 2
}
